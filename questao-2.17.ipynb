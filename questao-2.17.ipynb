{
 "cells": [
  {
   "cell_type": "code",
   "execution_count": 2,
   "metadata": {},
   "outputs": [
    {
     "name": "stdout",
     "output_type": "stream",
     "text": [
      "Galois Field:\n",
      "  name: GF(2^4)\n",
      "  characteristic: 2\n",
      "  degree: 4\n",
      "  order: 16\n",
      "  irreducible_poly: x^4 + x + 1\n",
      "  is_primitive_poly: True\n",
      "  primitive_element: x\n"
     ]
    }
   ],
   "source": [
    "import galois\n",
    "poly = galois.Poly.Degrees([0,1,4])\n",
    "GF16 = galois.GF(2**4, irreducible_poly=poly)\n",
    "print(GF16.properties)"
   ]
  },
  {
   "cell_type": "code",
   "execution_count": 3,
   "metadata": {},
   "outputs": [
    {
     "name": "stdout",
     "output_type": "stream",
     "text": [
      " Power       Polynomial         Vector      Integer \n",
      "------- ------------------- -------------- ---------\n",
      "   0             0           [0, 0, 0, 0]      0     \n",
      "  x^0            1           [0, 0, 0, 1]      1     \n",
      "  x^1            x           [0, 0, 1, 0]      2     \n",
      "  x^2           x^2          [0, 1, 0, 0]      4     \n",
      "  x^3           x^3          [1, 0, 0, 0]      8     \n",
      "  x^4          x + 1         [0, 0, 1, 1]      3     \n",
      "  x^5         x^2 + x        [0, 1, 1, 0]      6     \n",
      "  x^6        x^3 + x^2       [1, 1, 0, 0]      12    \n",
      "  x^7       x^3 + x + 1      [1, 0, 1, 1]      11    \n",
      "  x^8         x^2 + 1        [0, 1, 0, 1]      5     \n",
      "  x^9         x^3 + x        [1, 0, 1, 0]      10    \n",
      "  x^10      x^2 + x + 1      [0, 1, 1, 1]      7     \n",
      "  x^11     x^3 + x^2 + x     [1, 1, 1, 0]      14    \n",
      "  x^12   x^3 + x^2 + x + 1   [1, 1, 1, 1]      15    \n",
      "  x^13     x^3 + x^2 + 1     [1, 1, 0, 1]      13    \n",
      "  x^14        x^3 + 1        [1, 0, 0, 1]      9     \n"
     ]
    }
   ],
   "source": [
    "print(GF16.repr_table())"
   ]
  },
  {
   "cell_type": "code",
   "execution_count": 6,
   "metadata": {},
   "outputs": [
    {
     "name": "stdout",
     "output_type": "stream",
     "text": [
      "Primeira raíz: a -> p(a) = 0\n",
      "Segunda raíz: a**3 ->p(a) = 0\n",
      "Terceira raíz: a**3 ->p(a) = 0\n"
     ]
    }
   ],
   "source": [
    "# Constroi o polinômio x³ + a⁶x² + a⁹x + a⁹\n",
    "test_poly = galois.Poly.Degrees([3,2,1,0], coeffs=[1,12,10,10], field=GF16)\n",
    "# Realiza o teste no polinômio\n",
    "a = GF16.primitive_element\n",
    "print(\"Primeira raíz: a -> p(a) = {}\".format(test_poly(a)))\n",
    "print(\"Segunda raíz: a**3 ->p(a) = {}\".format(test_poly(a**3)))\n",
    "print(\"Terceira raíz: a**3 ->p(a) = {}\".format(test_poly(a**5)))"
   ]
  }
 ],
 "metadata": {
  "kernelspec": {
   "display_name": "venv",
   "language": "python",
   "name": "python3"
  },
  "language_info": {
   "codemirror_mode": {
    "name": "ipython",
    "version": 3
   },
   "file_extension": ".py",
   "mimetype": "text/x-python",
   "name": "python",
   "nbconvert_exporter": "python",
   "pygments_lexer": "ipython3",
   "version": "3.11.5"
  },
  "orig_nbformat": 4
 },
 "nbformat": 4,
 "nbformat_minor": 2
}
