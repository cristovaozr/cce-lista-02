{
 "cells": [
  {
   "cell_type": "code",
   "execution_count": 1,
   "id": "cc2d0a9d-7ab2-4533-b72c-1380fa05c5a2",
   "metadata": {},
   "outputs": [],
   "source": [
    "import galois"
   ]
  },
  {
   "cell_type": "code",
   "execution_count": 2,
   "id": "7b051c69-2941-4e58-96d1-1a69bd7be20b",
   "metadata": {},
   "outputs": [
    {
     "name": "stdout",
     "output_type": "stream",
     "text": [
      "Galois Field:\n",
      "  name: GF(2^5)\n",
      "  characteristic: 2\n",
      "  degree: 5\n",
      "  order: 32\n",
      "  irreducible_poly: x^5 + x^2 + 1\n",
      "  is_primitive_poly: True\n",
      "  primitive_element: x\n"
     ]
    }
   ],
   "source": [
    "poly = galois.Poly.Degrees([0,2,5])\n",
    "GF32 = galois.GF(2**5, irreducible_poly=poly, repr='poly')\n",
    "print(GF32.properties)"
   ]
  },
  {
   "cell_type": "code",
   "execution_count": 3,
   "id": "c45f293a-c028-49e9-8a2d-0be2d5b60e02",
   "metadata": {},
   "outputs": [
    {
     "name": "stdout",
     "output_type": "stream",
     "text": [
      " Power          Polynomial              Vector       Integer \n",
      "------- ------------------------- ----------------- ---------\n",
      "   0                0              [0, 0, 0, 0, 0]      0     \n",
      "  x^0               1              [0, 0, 0, 0, 1]      1     \n",
      "  x^1               x              [0, 0, 0, 1, 0]      2     \n",
      "  x^2              x^2             [0, 0, 1, 0, 0]      4     \n",
      "  x^3              x^3             [0, 1, 0, 0, 0]      8     \n",
      "  x^4              x^4             [1, 0, 0, 0, 0]      16    \n",
      "  x^5            x^2 + 1           [0, 0, 1, 0, 1]      5     \n",
      "  x^6            x^3 + x           [0, 1, 0, 1, 0]      10    \n",
      "  x^7           x^4 + x^2          [1, 0, 1, 0, 0]      20    \n",
      "  x^8         x^3 + x^2 + 1        [0, 1, 1, 0, 1]      13    \n",
      "  x^9         x^4 + x^3 + x        [1, 1, 0, 1, 0]      26    \n",
      "  x^10           x^4 + 1           [1, 0, 0, 0, 1]      17    \n",
      "  x^11         x^2 + x + 1         [0, 0, 1, 1, 1]      7     \n",
      "  x^12        x^3 + x^2 + x        [0, 1, 1, 1, 0]      14    \n",
      "  x^13       x^4 + x^3 + x^2       [1, 1, 1, 0, 0]      28    \n",
      "  x^14     x^4 + x^3 + x^2 + 1     [1, 1, 1, 0, 1]      29    \n",
      "  x^15   x^4 + x^3 + x^2 + x + 1   [1, 1, 1, 1, 1]      31    \n",
      "  x^16      x^4 + x^3 + x + 1      [1, 1, 0, 1, 1]      27    \n",
      "  x^17         x^4 + x + 1         [1, 0, 0, 1, 1]      19    \n",
      "  x^18            x + 1            [0, 0, 0, 1, 1]      3     \n",
      "  x^19           x^2 + x           [0, 0, 1, 1, 0]      6     \n",
      "  x^20          x^3 + x^2          [0, 1, 1, 0, 0]      12    \n",
      "  x^21          x^4 + x^3          [1, 1, 0, 0, 0]      24    \n",
      "  x^22        x^4 + x^2 + 1        [1, 0, 1, 0, 1]      21    \n",
      "  x^23      x^3 + x^2 + x + 1      [0, 1, 1, 1, 1]      15    \n",
      "  x^24     x^4 + x^3 + x^2 + x     [1, 1, 1, 1, 0]      30    \n",
      "  x^25        x^4 + x^3 + 1        [1, 1, 0, 0, 1]      25    \n",
      "  x^26      x^4 + x^2 + x + 1      [1, 0, 1, 1, 1]      23    \n",
      "  x^27         x^3 + x + 1         [0, 1, 0, 1, 1]      11    \n",
      "  x^28        x^4 + x^2 + x        [1, 0, 1, 1, 0]      22    \n",
      "  x^29           x^3 + 1           [0, 1, 0, 0, 1]      9     \n",
      "  x^30           x^4 + x           [1, 0, 0, 1, 0]      18    \n"
     ]
    }
   ],
   "source": [
    "print(GF32.repr_table())"
   ]
  },
  {
   "cell_type": "code",
   "execution_count": 31,
   "id": "818bf6e6",
   "metadata": {},
   "outputs": [
    {
     "name": "stdout",
     "output_type": "stream",
     "text": [
      "1\n"
     ]
    }
   ],
   "source": [
    "a = GF32.primitive_element\n",
    "print(a**39 + a**51)"
   ]
  },
  {
   "cell_type": "code",
   "execution_count": 4,
   "id": "ad7aca96-6022-45ec-a1c3-ede6d523fb8b",
   "metadata": {},
   "outputs": [
    {
     "name": "stdout",
     "output_type": "stream",
     "text": [
      "O polinômio primitivo de a3 é x^5 + x^4 + x^3 + x^2 + 1\n"
     ]
    }
   ],
   "source": [
    "a3 = GF32.primitive_element**3\n",
    "print(\"O polinômio primitivo de a3 é {}\".format(GF32.minimal_poly(a3)))"
   ]
  },
  {
   "cell_type": "code",
   "execution_count": 5,
   "id": "6ed56d4e-6eee-4499-b37c-51a6b86ddd22",
   "metadata": {},
   "outputs": [
    {
     "name": "stdout",
     "output_type": "stream",
     "text": [
      "O polinômio primitivo de é x^5 + x^3 + x^2 + x + 1\n"
     ]
    }
   ],
   "source": [
    "a7 = GF32.primitive_element**7\n",
    "print(\"O polinômio primitivo de é {}\".format(GF32.minimal_poly(a7)))"
   ]
  }
 ],
 "metadata": {
  "kernelspec": {
   "display_name": "Python 3 (ipykernel)",
   "language": "python",
   "name": "python3"
  },
  "language_info": {
   "codemirror_mode": {
    "name": "ipython",
    "version": 3
   },
   "file_extension": ".py",
   "mimetype": "text/x-python",
   "name": "python",
   "nbconvert_exporter": "python",
   "pygments_lexer": "ipython3",
   "version": "3.11.5"
  }
 },
 "nbformat": 4,
 "nbformat_minor": 5
}
