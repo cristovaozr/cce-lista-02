{
 "cells": [
  {
   "cell_type": "code",
   "execution_count": 1,
   "metadata": {},
   "outputs": [
    {
     "name": "stdout",
     "output_type": "stream",
     "text": [
      "Galois Field:\n",
      "  name: GF(2^4)\n",
      "  characteristic: 2\n",
      "  degree: 4\n",
      "  order: 16\n",
      "  irreducible_poly: x^4 + x + 1\n",
      "  is_primitive_poly: True\n",
      "  primitive_element: x\n"
     ]
    }
   ],
   "source": [
    "import galois\n",
    "\n",
    "poly = galois.Poly.Degrees([0,1,4])\n",
    "GF16 = galois.GF(2**4, irreducible_poly=poly, repr=\"power\")\n",
    "print(GF16.properties)"
   ]
  },
  {
   "cell_type": "code",
   "execution_count": 2,
   "metadata": {},
   "outputs": [
    {
     "name": "stdout",
     "output_type": "stream",
     "text": [
      " Power       Polynomial         Vector      Integer \n",
      "------- ------------------- -------------- ---------\n",
      "   0             0           [0, 0, 0, 0]      0     \n",
      "  x^0            1           [0, 0, 0, 1]      1     \n",
      "  x^1            x           [0, 0, 1, 0]      2     \n",
      "  x^2           x^2          [0, 1, 0, 0]      4     \n",
      "  x^3           x^3          [1, 0, 0, 0]      8     \n",
      "  x^4          x + 1         [0, 0, 1, 1]      3     \n",
      "  x^5         x^2 + x        [0, 1, 1, 0]      6     \n",
      "  x^6        x^3 + x^2       [1, 1, 0, 0]      12    \n",
      "  x^7       x^3 + x + 1      [1, 0, 1, 1]      11    \n",
      "  x^8         x^2 + 1        [0, 1, 0, 1]      5     \n",
      "  x^9         x^3 + x        [1, 0, 1, 0]      10    \n",
      "  x^10      x^2 + x + 1      [0, 1, 1, 1]      7     \n",
      "  x^11     x^3 + x^2 + x     [1, 1, 1, 0]      14    \n",
      "  x^12   x^3 + x^2 + x + 1   [1, 1, 1, 1]      15    \n",
      "  x^13     x^3 + x^2 + 1     [1, 1, 0, 1]      13    \n",
      "  x^14        x^3 + 1        [1, 0, 0, 1]      9     \n"
     ]
    }
   ],
   "source": [
    "print(GF16.repr_table())"
   ]
  },
  {
   "cell_type": "code",
   "execution_count": 3,
   "metadata": {},
   "outputs": [
    {
     "name": "stdout",
     "output_type": "stream",
     "text": [
      "det(A) == 14\n",
      "x_A == 5\n",
      "y_A == 7\n",
      "z_A == 12\n",
      "x == x_A/det_A == 15\n",
      "y == y_A/det_A == 9\n",
      "z == z_A/det_A == 7\n"
     ]
    }
   ],
   "source": [
    "# Resolver o sistema A*x = b pela regra de Cramer\n",
    "# x = det(A[:,0] = b)/det(A)\n",
    "# y = det(A[:,1] = b)/det(A)\n",
    "# z = det(A[:,2] = b)/det(A)\n",
    "\n",
    "a = GF16.primitive_element\n",
    "\n",
    "det_A = (a**7+a**14+a**0 + a**3+a**7+a**11)\n",
    "print(\"det(A) == {}\".format(det_A))\n",
    "x_A = (a**14+a**13+a**9 + a**2+a**14+a**20)\n",
    "print(\"x_A == {}\".format(x_A))\n",
    "y_A = (a**15+a**16+a + a**11+a**8+a**13)\n",
    "print(\"y_A == {}\".format(y_A))\n",
    "z_A = (a**2+a**16+a**7 + a**10+a**9+a**6)\n",
    "print(\"z_A == {}\".format(z_A))\n",
    "\n",
    "print(\"x == x_A/det_A == {}\".format(x_A // det_A))\n",
    "print(\"y == y_A/det_A == {}\".format(y_A // det_A))\n",
    "print(\"z == z_A/det_A == {}\".format(z_A // det_A))"
   ]
  }
 ],
 "metadata": {
  "kernelspec": {
   "display_name": "venv",
   "language": "python",
   "name": "python3"
  },
  "language_info": {
   "codemirror_mode": {
    "name": "ipython",
    "version": 3
   },
   "file_extension": ".py",
   "mimetype": "text/x-python",
   "name": "python",
   "nbconvert_exporter": "python",
   "pygments_lexer": "ipython3",
   "version": "3.11.5"
  },
  "orig_nbformat": 4
 },
 "nbformat": 4,
 "nbformat_minor": 2
}
